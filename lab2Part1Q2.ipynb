{
 "cells": [
  {
   "cell_type": "markdown",
   "id": "1caeb3e7",
   "metadata": {},
   "source": [
    "# DATA 311 Lab 2\n",
    "## Alex Isbill\n",
    "\n",
    "## Part 1\n",
    ">### 2. Find out how often Bellingham was overcast in each month of 2020.\n",
    "\n",
    "**Approach:**\n",
    "* Overcast is defined as when 8 oktas of the sky is covered by clouds and dentoted as OVC in the HourlySkyConditions column.\n",
    "* For each month, we will calculate the number of hours that Bellingham was overcast vs the number of hours that Bellingham was not overcast.\n",
    "* If we make this a ratio (hours overcast / hours not overcast) this will give us a percent of how often it was overcast in each month.\n",
    "* We can then put these numbers into a table to compare the months over 2020 and see which were the most overcast."
   ]
  },
  {
   "cell_type": "code",
   "execution_count": 29,
   "id": "5e033fd6",
   "metadata": {},
   "outputs": [],
   "source": [
    "import pandas as pd\n",
    "\n",
    "# Using function from lecture to get csv at url of city\n",
    "def data_url(city_name):\n",
    "    base_url = \"https://facultyweb.cs.wwu.edu/~wehrwes/courses/csci141_21s/fp/data/\"\n",
    "    return base_url + city_name + \".csv\"\n",
    "\n",
    "# Using df for Bellingham to get relevant columns, filtering for only hourly reports and \n",
    "# converting HourlySkyCondtions to string to be able to use effectivly with mask (could not use mask to compare NAN objects with strings)\n",
    "bham = pd.read_csv(data_url(\"WA_Bellingham\"), low_memory=False)\n",
    "overcast = bham[[\"DATE\",\"REPORT_TYPE\",\"HourlySkyConditions\"]]\n",
    "mask = overcast[\"REPORT_TYPE\"] == \"FM-15\"\n",
    "overcast = overcast[mask]\n",
    "overcast[\"DATE\"] = pd.to_datetime(overcast[\"DATE\"])\n",
    "overcast[\"HourlySkyConditions\"] = overcast[\"HourlySkyConditions\"].astype(str)"
   ]
  },
  {
   "cell_type": "markdown",
   "id": "0e51f0df",
   "metadata": {},
   "source": [
    "### Main function used to gather monthly overcast data\n",
    "1. Iterate through an array with start and end dates for each month in order to grab monthly data.\n",
    "2. Get the total number of hours by looking at the number of hourly observations in each month.\n",
    "    * Testing this showed that this number could be off by 0-5 hours but this did not make a significant difference in the final result.\n",
    "3. Create a mask that filters for reports that contain \"OVC\" to find the number of hours that were reported to be overcast.\n",
    "    * Looking at the documentation, all other letter codes indicate a sky condition that is not overcast except possibly in the case of an \"Obscured Sky\". For obscured data, we assume that the sky was not overcast and the relative infrequency does not impact the accuracy of the analysis.\n",
    "4. Calculate the percent that the month was overcast by dividing the number of hours that were overcast by the total hours and multiplying by 100.\n",
    "5. Append info to an array and move to the next month."
   ]
  },
  {
   "cell_type": "code",
   "execution_count": 30,
   "id": "2f1623bd",
   "metadata": {},
   "outputs": [],
   "source": [
    "def month_overcast(yearly_data):\n",
    "    months_data = []\n",
    "    dates = [\"2020-01-01\", \"2020-02-01\",\"2020-03-01\",\"2020-04-01\",\"2020-05-01\",\"2020-06-01\",\"2020-07-01\",\"2020-08-01\",\"2020-09-01\",\"2020-10-01\",\"2020-11-01\",\"2020-12-01\",\"2021-01-01\"]\n",
    "    for i in range(len(dates)-1):\n",
    "        start = dates[i]\n",
    "        end = dates[i+1]\n",
    "        mask = ((overcast[\"DATE\"] > start) & (overcast[\"DATE\"] < end))\n",
    "        month = overcast[mask]\n",
    "        total_hours = month.shape[0]\n",
    "        month_ovc_mask = month[\"HourlySkyConditions\"].str.contains(\"OVC\")\n",
    "        month = month[month_ovc_mask]\n",
    "        num_hours_ovc = month.shape[0]\n",
    "        percent_ovc = (num_hours_ovc/total_hours)*100\n",
    "        months_data.append(percent_ovc)\n",
    "    return months_data"
   ]
  },
  {
   "cell_type": "markdown",
   "id": "8affc69b",
   "metadata": {},
   "source": [
    "### Creating monthly overcast dataframe\n",
    "Here, we create a dataframe by taking the data from the month_overcast function and adding it to a dataframe with the corresponding names of months in order to display the information in a bar plot."
   ]
  },
  {
   "cell_type": "code",
   "execution_count": 31,
   "id": "495b1467",
   "metadata": {},
   "outputs": [
    {
     "data": {
      "text/plain": [
       "<AxesSubplot:xlabel='Month'>"
      ]
     },
     "execution_count": 31,
     "metadata": {},
     "output_type": "execute_result"
    },
    {
     "data": {
      "image/png": "[encoded data removed]",
      "text/plain": [
       "<Figure size 432x288 with 1 Axes>"
      ]
     },
     "metadata": {
      "needs_background": "light"
     },
     "output_type": "display_data"
    }
   ],
   "source": [
    "year_data = month_overcast(overcast)\n",
    "overcast_data = {'Month': ['January', 'February', 'March', 'April', 'May', 'June', 'July', 'August', 'September','October','November','December'],\n",
    "                  'Percent Overcast': year_data}\n",
    "overcast_df = pd.DataFrame(overcast_data)\n",
    "overcast_df.plot.bar(x=\"Month\", ylim=(0,100))"
   ]
  },
  {
   "cell_type": "markdown",
   "id": "442060ef",
   "metadata": {},
   "source": [
    "### Summary\n",
    "* The historgram gives a clean visual repreasentation of the percent overcast each month is (number of hours that are overcast vs not overcast).\n",
    "* Unsurpisingly, the Fall and Winter months tend to be the most overcast with a max of 66% overcast in January.\n",
    "* Further analysis could show a complete representation of the hourly sky conditions, showing the percent of hours of each weather condition (clear, partly cloudy, etc.)"
   ]
  }
 ],
 "metadata": {
  "kernelspec": {
   "display_name": "Python 3",
   "language": "python",
   "name": "python3"
  },
  "language_info": {
   "codemirror_mode": {
    "name": "ipython",
    "version": 3
   },
   "file_extension": ".py",
   "mimetype": "text/x-python",
   "name": "python",
   "nbconvert_exporter": "python",
   "pygments_lexer": "ipython3",
   "version": "3.6.9"
  }
 },
 "nbformat": 4,
 "nbformat_minor": 5
}
