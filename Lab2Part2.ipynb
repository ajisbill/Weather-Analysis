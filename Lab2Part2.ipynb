{
 "cells": [
  {
   "cell_type": "markdown",
   "id": "9f684380",
   "metadata": {},
   "source": [
    "# Data 311 Lab 2\n",
    "## Alex Isbill\n",
    "\n",
    "## Part 2: Additional Analysis\n",
    "> ### Question: Have the summers in Boulder, CO been getting hotter over the last 10 years?\n",
    "**Motivation**: People always say the the summers are getting hotter in my hometown and that temperature records seem to always be getting broken, but on average are the summers really getting hotter?\n",
    "## Approach:\n",
    "1. Gather the relvant data:\n",
    "    * Filter for daily reports\n",
    "    * Look at the max temperature column\n",
    "    * Filter for the summer dates for each year\n",
    "2. For each year:\n",
    "    * Take the average of the max temperatures for that Summer\n",
    "    * Add value to a dictionary\n",
    "3. Analysis:\n",
    "    * Create a dataframe with the average high temperatures for each of the last 10 summers\n",
    "    * Plot the data and look for trends in order to determine if the summers have definitively been getting hotter."
   ]
  },
  {
   "cell_type": "code",
   "execution_count": null,
   "id": "636b9938",
   "metadata": {},
   "outputs": [],
   "source": [
    "import pandas as pd\n",
    "pd.options.mode.chained_assignment = None\n",
    "\n",
    "bol = pd.read_csv(\"boulder_10year.csv\", low_memory=False)"
   ]
  },
  {
   "cell_type": "markdown",
   "id": "f116d59b",
   "metadata": {},
   "source": [
    "### Get the Relevant Dataframe\n",
    "* Look at only daily reports\n",
    "* We only need the date and the max temp columns\n",
    "    * According to the documentation, dry bulb temp is commonly used for standard air temperature reported\n",
    "* Convert to datetime format"
   ]
  },
  {
   "cell_type": "code",
   "execution_count": 28,
   "id": "589e1a43",
   "metadata": {},
   "outputs": [],
   "source": [
    "bol = bol[bol[\"REPORT_TYPE\"].str.contains(\"SOD\")]\n",
    "bol_rel = bol[[\"DATE\", \"DailyMaximumDryBulbTemperature\"]]\n",
    "bol_rel.rename(columns = {\"DailyMaximumDryBulbTemperature\" : \"MAXTEMP\"},inplace=True)\n",
    "bol_rel[\"DATE\"] = pd.to_datetime(bol_rel[\"DATE\"])"
   ]
  },
  {
   "cell_type": "markdown",
   "id": "7cf03e3b",
   "metadata": {},
   "source": [
    "### Find the average high temp for each summer\n",
    "* Loop through the years and create a mask to filter for only the days in the summer\n",
    "* Take the average of the high temps for that year and add it to a dictionary"
   ]
  },
  {
   "cell_type": "code",
   "execution_count": 17,
   "id": "8b613293",
   "metadata": {},
   "outputs": [],
   "source": [
    "maxTemps = {}\n",
    "years = [2011,2012,2013,2014,2015,2016,2017,2018,2019,2020]\n",
    "\n",
    "for i in range(10):\n",
    "    mask = (bol_rel[\"DATE\"] > str(years[i]) + \"-06-21\") & (bol_rel[\"DATE\"] < str(years[i]) + \"-09-22\")\n",
    "    summer = bol_rel[mask]\n",
    "    avg = summer[\"MAXTEMP\"].mean()\n",
    "    maxTemps[years[i]] = avg"
   ]
  },
  {
   "cell_type": "markdown",
   "id": "b2128ede",
   "metadata": {},
   "source": [
    "### Put into dataframe and look at results\n",
    "* Convert the dictionary into a data frame with columns of year and average summer high temperature\n",
    "* Plot the result to see if we see a yearly trend"
   ]
  },
  {
   "cell_type": "code",
   "execution_count": 33,
   "id": "8aff550f",
   "metadata": {},
   "outputs": [
    {
     "data": {
      "text/html": [
       "<div>\n",
       "<style scoped>\n",
       "    .dataframe tbody tr th:only-of-type {\n",
       "        vertical-align: middle;\n",
       "    }\n",
       "\n",
       "    .dataframe tbody tr th {\n",
       "        vertical-align: top;\n",
       "    }\n",
       "\n",
       "    .dataframe thead th {\n",
       "        text-align: right;\n",
       "    }\n",
       "</style>\n",
       "<table border=\"1\" class=\"dataframe\">\n",
       "  <thead>\n",
       "    <tr style=\"text-align: right;\">\n",
       "      <th></th>\n",
       "      <th>Year</th>\n",
       "      <th>Average Summer High Temperature</th>\n",
       "    </tr>\n",
       "  </thead>\n",
       "  <tbody>\n",
       "    <tr>\n",
       "      <th>0</th>\n",
       "      <td>2011</td>\n",
       "      <td>65.532609</td>\n",
       "    </tr>\n",
       "    <tr>\n",
       "      <th>1</th>\n",
       "      <td>2012</td>\n",
       "      <td>66.774194</td>\n",
       "    </tr>\n",
       "    <tr>\n",
       "      <th>2</th>\n",
       "      <td>2013</td>\n",
       "      <td>65.292135</td>\n",
       "    </tr>\n",
       "    <tr>\n",
       "      <th>3</th>\n",
       "      <td>2014</td>\n",
       "      <td>63.554348</td>\n",
       "    </tr>\n",
       "    <tr>\n",
       "      <th>4</th>\n",
       "      <td>2015</td>\n",
       "      <td>65.500000</td>\n",
       "    </tr>\n",
       "    <tr>\n",
       "      <th>5</th>\n",
       "      <td>2016</td>\n",
       "      <td>66.532609</td>\n",
       "    </tr>\n",
       "    <tr>\n",
       "      <th>6</th>\n",
       "      <td>2017</td>\n",
       "      <td>65.633333</td>\n",
       "    </tr>\n",
       "    <tr>\n",
       "      <th>7</th>\n",
       "      <td>2018</td>\n",
       "      <td>67.369565</td>\n",
       "    </tr>\n",
       "    <tr>\n",
       "      <th>8</th>\n",
       "      <td>2019</td>\n",
       "      <td>67.000000</td>\n",
       "    </tr>\n",
       "    <tr>\n",
       "      <th>9</th>\n",
       "      <td>2020</td>\n",
       "      <td>67.741935</td>\n",
       "    </tr>\n",
       "  </tbody>\n",
       "</table>\n",
       "</div>"
      ],
      "text/plain": [
       "   Year  Average Summer High Temperature\n",
       "0  2011                        65.532609\n",
       "1  2012                        66.774194\n",
       "2  2013                        65.292135\n",
       "3  2014                        63.554348\n",
       "4  2015                        65.500000\n",
       "5  2016                        66.532609\n",
       "6  2017                        65.633333\n",
       "7  2018                        67.369565\n",
       "8  2019                        67.000000\n",
       "9  2020                        67.741935"
      ]
     },
     "execution_count": 33,
     "metadata": {},
     "output_type": "execute_result"
    },
    {
     "data": {
      "image/png": "[encoded data removed]",
      "text/plain": [
       "<Figure size 720x720 with 1 Axes>"
      ]
     },
     "metadata": {
      "needs_background": "light"
     },
     "output_type": "display_data"
    }
   ],
   "source": [
    "maxDF = pd.DataFrame.from_dict(maxTemps, orient=\"index\", columns = [\"Average Summer High Temperature\"])\n",
    "maxDF.index.name = \"Year\"\n",
    "maxDF.reset_index(inplace=True)\n",
    "maxDF.plot.line(x=\"Year\", y=\"Average Summer High Temperature\", title=\"Average Summer High Temp. 2011-2020\",\n",
    "                xticks=maxDF[\"Year\"], ylim= (62,68), figsize=(10,10))\n",
    "maxDF\n"
   ]
  },
  {
   "cell_type": "code",
   "execution_count": 37,
   "id": "a55011a0",
   "metadata": {},
   "outputs": [
    {
     "data": {
      "text/plain": [
       "0.6979312762973345"
      ]
     },
     "execution_count": 37,
     "metadata": {},
     "output_type": "execute_result"
    }
   ],
   "source": [
    "# To examine the upward trend after 2014. we can find the average temp change over the last 6 years\n",
    "avgInc = (maxDF[\"Average Summer High Temperature\"].max() - maxDF[\"Average Summer High Temperature\"].min())/6\n",
    "avgInc"
   ]
  },
  {
   "cell_type": "markdown",
   "id": "f8abe43d",
   "metadata": {},
   "source": [
    "## Conclusion\n",
    "* While the data stays between a small range 63 and 68 degrees, we see a clear upward trend after 2014.\n",
    ">**We can say that since 2014, the average summer high temperature in Boulder, CO has increased by an average of 0.70 degrees per year.**"
   ]
  }
 ],
 "metadata": {
  "kernelspec": {
   "display_name": "Python 3 (ipykernel)",
   "language": "python",
   "name": "python3"
  },
  "language_info": {
   "codemirror_mode": {
    "name": "ipython",
    "version": 3
   },
   "file_extension": ".py",
   "mimetype": "text/x-python",
   "name": "python",
   "nbconvert_exporter": "python",
   "pygments_lexer": "ipython3",
   "version": "3.9.7"
  }
 },
 "nbformat": 4,
 "nbformat_minor": 5
}
