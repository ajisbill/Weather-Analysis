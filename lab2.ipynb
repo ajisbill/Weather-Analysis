{
 "cells": [
  {
   "cell_type": "markdown",
   "id": "1caeb3e7",
   "metadata": {},
   "source": [
    "# DATA 311 Lab 2\n",
    "## Alex Isbill\n",
    "\n",
    "## Part 1\n",
    "### 2. Find out how often Bellingham was overcast in each month of 2020.\n",
    "* For each month, we will calculate the number of hours that Bellingham was overcast vs the number of hours that Bellingham was not overcast.\n",
    "* Overcast is defined as when 8 oktas of the sky is covered by clouds and dentoted as OVC in the HourlySkyConditions column.\n",
    "* If we make this a ratio (hours overcast / hours not overcast) this will give us a percent of how often it was overcast it was in each month.\n",
    "* We can then put these numbers into a table to compare the months over 2020 and see which were the most overcast."
   ]
  },
  {
   "cell_type": "code",
   "execution_count": 34,
   "id": "b0f0ab3a",
   "metadata": {},
   "outputs": [
    {
     "data": {
      "text/plain": [
       "68.87686062246279"
      ]
     },
     "execution_count": 34,
     "metadata": {},
     "output_type": "execute_result"
    }
   ],
   "source": [
    "import pandas as pd\n",
    "\n",
    "def data_url(city_name):\n",
    "    base_url = \"https://facultyweb.cs.wwu.edu/~wehrwes/courses/csci141_21s/fp/data/\"\n",
    "    return base_url + city_name + \".csv\"\n",
    "\n",
    "bham = pd.read_csv(data_url(\"WA_Bellingham\"), low_memory=False)\n",
    "overcast = bham[[\"DATE\",\"REPORT_TYPE\",\"HourlySkyConditions\"]]\n",
    "mask = overcast[\"REPORT_TYPE\"] == \"FM-15\"\n",
    "overcast = overcast[mask]\n",
    "overcast[\"DATE\"] = pd.to_datetime(overcast[\"DATE\"])\n",
    "overcast[\"HourlySkyConditions\"] = overcast[\"HourlySkyConditions\"].astype(str)\n",
    "\n",
    "\n",
    "mask = ((overcast[\"DATE\"] > \"2020-01-01\") & (overcast[\"DATE\"] < \"2020-02-01\"))\n",
    "jan = overcast[mask]\n",
    "total_hours = jan.shape[0]\n",
    "jan_ovc_mask = jan[\"HourlySkyConditions\"].str.contains(\"OVC\")\n",
    "jan = jan[jan_ovc_mask]\n",
    "num_hours_ovc = jan.shape[0]\n",
    "\n",
    "percent_ovc = (num_hours_ovc/total_hours)*100\n",
    "percent_ovc"
   ]
  },
  {
   "cell_type": "code",
   "execution_count": null,
   "id": "636f7027",
   "metadata": {},
   "outputs": [],
   "source": []
  }
 ],
 "metadata": {
  "kernelspec": {
   "display_name": "Python 3",
   "language": "python",
   "name": "python3"
  },
  "language_info": {
   "codemirror_mode": {
    "name": "ipython",
    "version": 3
   },
   "file_extension": ".py",
   "mimetype": "text/x-python",
   "name": "python",
   "nbconvert_exporter": "python",
   "pygments_lexer": "ipython3",
   "version": "3.6.9"
  }
 },
 "nbformat": 4,
 "nbformat_minor": 5
}
